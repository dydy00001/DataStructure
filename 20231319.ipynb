{
  "nbformat": 4,
  "nbformat_minor": 0,
  "metadata": {
    "colab": {
      "provenance": [],
      "mount_file_id": "1rIFWK_f6U78ZW2DiNavlWmiIKufZ9iLH",
      "authorship_tag": "ABX9TyPaX9D8rzcFmRX72n7WCkFA",
      "include_colab_link": true
    },
    "kernelspec": {
      "name": "python3",
      "display_name": "Python 3"
    },
    "language_info": {
      "name": "python"
    }
  },
  "cells": [
    {
      "cell_type": "markdown",
      "metadata": {
        "id": "view-in-github",
        "colab_type": "text"
      },
      "source": [
        "<a href=\"https://colab.research.google.com/github/dydy00001/DataStructure/blob/main/20231319.ipynb\" target=\"_parent\"><img src=\"https://colab.research.google.com/assets/colab-badge.svg\" alt=\"Open In Colab\"/></a>"
      ]
    },
    {
      "cell_type": "markdown",
      "source": [
        "# QUEUE"
      ],
      "metadata": {
        "id": "3GPtx0LZ7piP"
      }
    },
    {
      "cell_type": "markdown",
      "source": [
        "## LeetCode 225. Implemnet Stack using Queues"
      ],
      "metadata": {
        "id": "i2WnglNBiANF"
      }
    },
    {
      "cell_type": "code",
      "source": [
        "class MyStack:\n",
        "  def __init__(self):\n",
        "    self.__q1 = []\n",
        "    self.__q2 = []\n",
        "\n",
        "  def push(self, x: int) -> None:\n",
        "    self.__q1.append(x)\n",
        "\n",
        "  def pop(self) -> int:\n",
        "    if self.empty():\n",
        "      return None\n",
        "    else:\n",
        "      while len(self.__q1) > 1:\n",
        "        self.__q2.append(self.__q1.pop(0))\n",
        "\n",
        "      result = self.__q1.pop(0)\n",
        "\n",
        "      self.__q1, self.__q2 = self.__q2, self.__q1\n",
        "\n",
        "      return result\n",
        "\n",
        "  def top(self) -> int:\n",
        "    if self.empty():\n",
        "      return None\n",
        "    else:\n",
        "      while len(self.__q1) > 1:\n",
        "        self.__q2.append(self.__q1.pop(0))\n",
        "\n",
        "      result = self.__q1.pop(0)\n",
        "      self.__q2.append(result)\n",
        "\n",
        "      self.__q1, self.__q2 = self.__q2, self.__q1\n",
        "\n",
        "      return result\n",
        "\n",
        "  def empty(self) -> bool:\n",
        "    return len(self.__q1) == 0\n"
      ],
      "metadata": {
        "colab": {
          "base_uri": "https://localhost:8080/"
        },
        "id": "D7H3L1kpiGMN",
        "outputId": "5601b1f3-9a1f-46e8-e3c4-73043de33705"
      },
      "execution_count": null,
      "outputs": [
        {
          "output_type": "stream",
          "name": "stdout",
          "text": [
            "2\n",
            "2\n",
            "False\n"
          ]
        }
      ]
    },
    {
      "cell_type": "markdown",
      "source": [
        "## LeetCode 232.Implement Queue using Stacks"
      ],
      "metadata": {
        "id": "gHhz-vV_iXWv"
      }
    },
    {
      "cell_type": "code",
      "source": [
        "class MyQueue:\n",
        "    def __init__(self):\n",
        "        self.__stack1 = []\n",
        "        self.__stack2 = []\n",
        "\n",
        "    def push(self, x: int) -> None:\n",
        "        self.__stack1.append(x)\n",
        "\n",
        "    def pop(self) -> int:\n",
        "        if self.empty():\n",
        "            return None\n",
        "        else:\n",
        "            while len(self.__stack1) > 1:\n",
        "                self.__stack2.append(self.__stack1.pop())\n",
        "\n",
        "            result = self.__stack1.pop()\n",
        "            while self.__stack2:\n",
        "                self.__stack1.append(self.__stack2.pop())\n",
        "\n",
        "            return result\n",
        "\n",
        "    def peek(self) -> int:\n",
        "        if self.empty():\n",
        "            return None\n",
        "        else:\n",
        "            while len(self.__stack1) > 1:\n",
        "                self.__stack2.append(self.__stack1.pop())\n",
        "\n",
        "            result = self.__stack1.pop()\n",
        "            self.__stack2.append(result)\n",
        "\n",
        "            while self.__stack2:\n",
        "                self.__stack1.append(self.__stack2.pop())\n",
        "\n",
        "            return result\n",
        "\n",
        "    def empty(self) -> bool:\n",
        "        return len(self.__stack1) == 0\n"
      ],
      "metadata": {
        "colab": {
          "base_uri": "https://localhost:8080/"
        },
        "id": "yRJ12NfkipzN",
        "outputId": "275604d8-3959-4f7c-ed86-5f93a0999374"
      },
      "execution_count": null,
      "outputs": [
        {
          "output_type": "stream",
          "name": "stdout",
          "text": [
            "1\n",
            "1\n",
            "False\n"
          ]
        }
      ]
    },
    {
      "cell_type": "markdown",
      "source": [
        "## 큐 연습문제"
      ],
      "metadata": {
        "id": "-rRhs_bno3Ev"
      }
    },
    {
      "cell_type": "markdown",
      "source": [
        "1번\n"
      ],
      "metadata": {
        "id": "PP8RF-sipNBl"
      }
    },
    {
      "cell_type": "code",
      "source": [
        "class ListQueue:\n",
        "  def __init__(self):\n",
        "    self.__queue = []\n",
        "\n",
        "  def enqueue(self, x):\n",
        "    self.__queue.insert(0,x)\n",
        "\n",
        "  def dequeue(self):\n",
        "    return self.__queue.pop()\n",
        "\n",
        "  def front(self):\n",
        "    return self.__queue[-1]\n",
        "\n",
        "  def isEmpty(self)->bool:\n",
        "    return len(self.__queue)==0\n",
        "\n",
        "  def dequeueAll(self):\n",
        "    self.__queue.clear()"
      ],
      "metadata": {
        "id": "5I3dNZ-npS-u"
      },
      "execution_count": null,
      "outputs": []
    },
    {
      "cell_type": "markdown",
      "source": [
        "2번"
      ],
      "metadata": {
        "id": "6L7nPioFp92b"
      }
    },
    {
      "cell_type": "code",
      "source": [
        "def isSymmetric(s: str) -> bool:\n",
        "    if '$' not in s:\n",
        "        return False\n",
        "\n",
        "    sep = s.index('$')\n",
        "    left = s[:sep]\n",
        "    right = s[sep+1:]\n",
        "\n",
        "    queue = []\n",
        "    for ch in left:\n",
        "        queue.append(ch)\n",
        "\n",
        "    for ch in reversed(right):\n",
        "        if len(queue) == 0 or queue.pop(0) != ch:\n",
        "            return False\n",
        "\n",
        "    return len(queue) == 0"
      ],
      "metadata": {
        "id": "bqVgLg3qqAJJ"
      },
      "execution_count": null,
      "outputs": []
    },
    {
      "cell_type": "markdown",
      "source": [
        "3번"
      ],
      "metadata": {
        "id": "G6W3pZCnqBIh"
      }
    },
    {
      "cell_type": "code",
      "source": [
        "def copyQueue(a):\n",
        "    b = LinkedQueue()\n",
        "    temp = LinkedQueue()\n",
        "\n",
        "    while not a.isEmpty():\n",
        "        x = a.dequeue()\n",
        "        temp.enqueue(x)\n",
        "        b.enqueue(x)\n",
        "\n",
        "    while not temp.isEmpty():\n",
        "        a.enqueue(temp.dequeue())\n",
        "\n",
        "    return b"
      ],
      "metadata": {
        "id": "40NA8oqwqE8o"
      },
      "execution_count": null,
      "outputs": []
    },
    {
      "cell_type": "markdown",
      "source": [
        "4번"
      ],
      "metadata": {
        "id": "yak8oAxGqGLd"
      }
    },
    {
      "cell_type": "code",
      "source": [
        "def push(self, x: int) -> None:\n",
        "    self.__q1.append(x)\n",
        "\n",
        "def pop(self) -> int:\n",
        "    if self.empty():\n",
        "      return None\n",
        "    else:\n",
        "      while len(self.__q1) > 1:\n",
        "        self.__q2.append(self.__q1.pop(0))\n",
        "\n",
        "      result = self.__q1.pop(0)\n",
        "\n",
        "      self.__q1, self.__q2 = self.__q2, self.__q1\n",
        "\n",
        "      return result"
      ],
      "metadata": {
        "id": "1B_jdwdWThCE"
      },
      "execution_count": null,
      "outputs": []
    },
    {
      "cell_type": "markdown",
      "source": [
        "5번"
      ],
      "metadata": {
        "id": "YFjmTVntqHvO"
      }
    },
    {
      "cell_type": "code",
      "source": [
        "def enqueue(self, x: int) -> None:\n",
        "    self.__stack1.append(x)\n",
        "\n",
        "def dequeue(self) -> int:\n",
        "    if self.empty():\n",
        "        return None\n",
        "    else:\n",
        "        while len(self.__stack1) > 1:\n",
        "            self.__stack2.append(self.__stack1.pop())\n",
        "\n",
        "        result = self.__stack1.pop()\n",
        "\n",
        "        while self.__stack2:\n",
        "            self.__stack1.append(self.__stack2.pop())\n",
        "\n",
        "        return result\n"
      ],
      "metadata": {
        "id": "wX49maJhqPtn"
      },
      "execution_count": null,
      "outputs": []
    },
    {
      "cell_type": "markdown",
      "source": [
        "6번"
      ],
      "metadata": {
        "id": "FdMhA7wRqJjs"
      }
    },
    {
      "cell_type": "markdown",
      "source": [
        "Deque는 일반 큐와 달리, 큐의 앞(front)과 뒤(rear) 양쪽 모두에서 enqueue()와 dequeue()가 가능한 자료구조이다.코드 7-13에서는 원형 연결 리스트(CircularLinkedList)를 기반으로 큐를 구현하고 있으며, 앞과 뒤를 가리키는 포인터를 잘 유지한다면 원소를 삽입하거나 삭제하는 연산은 모두 일정한 시간 안에 수행할 수 있다.\n",
        "\n",
        "따라서 큐의 크기가 n일 때, Deque의 enqueue() 및 dequeue() 연산의 수행 시간은 모두 O(1)이다."
      ],
      "metadata": {
        "id": "DCe5IC_3XxLk"
      }
    },
    {
      "cell_type": "markdown",
      "source": [
        "7번"
      ],
      "metadata": {
        "id": "WTXJXfVHqK5h"
      }
    },
    {
      "cell_type": "markdown",
      "source": [
        "LinkedListBasic 클래스는 단일 연결 리스트(Singly Linked List) 구조로, 리스트의 맨 앞에 더미 헤드 노드를 두고 원소들을 연결하여 관리한다. 이 구조에서는 리스트의 끝에 접근하기 위해 반드시 처음부터 한 칸씩 이동해야 하며, 리스트 내 특정 위치에 노드를 삽입하거나 삭제할 때도 마찬가지로 _getNode(i) 함수를 통해 해당 위치까지 순차적으로 탐색한다.\n",
        "\n",
        "이러한 구조에서 enqueue() 연산은 일반적으로 리스트의 끝에 새로운 노드를 삽입하는 방식으로 이루어지며, 이때 마지막 노드에 도달하기까지 최대 n번의 탐색이 필요하다. 따라서 enqueue() 연산의 시간 복잡도는 O(n)이 된다.\n",
        "\n",
        "반면, dequeue() 연산은 큐의 앞에서 원소를 삭제하는 연산으로, 이 클래스에서는 더미 헤드 노드가 존재하므로 첫 번째 실제 노드를 바로 제거할 수 있다. 별도의 탐색 없이 더미 노드를 이용해 곧바로 삭제할 수 있기 때문에, dequeue() 연산의 시간 복잡도는 O(1)이다.\n",
        "\n",
        "따라서, enqueue()는 O(n), dequeue()는 O(1)이다."
      ],
      "metadata": {
        "id": "7-kLXTRPZahw"
      }
    },
    {
      "cell_type": "markdown",
      "source": [
        "8번"
      ],
      "metadata": {
        "id": "L_Ozji9-qMmM"
      }
    },
    {
      "cell_type": "code",
      "source": [
        "class Deque:\n",
        "    def __init__(self):\n",
        "        self.__queue = []\n",
        "\n",
        "    def enqueueRear(self, x):\n",
        "        self.__queue.append(x)\n",
        "\n",
        "    def enqueueFront(self, x):\n",
        "        self.__queue.insert(0, x)\n",
        "\n",
        "    def dequeueFront(self):\n",
        "        if self.isEmpty():\n",
        "            return None\n",
        "        return self.__queue.pop(0)\n",
        "\n",
        "    def dequeueRear(self):\n",
        "        if self.isEmpty():\n",
        "            return None\n",
        "        return self.__queue.pop()\n",
        "\n",
        "    def front(self):\n",
        "        if self.isEmpty():\n",
        "            return None\n",
        "        return self.__queue[0]\n",
        "\n",
        "    def rear(self):\n",
        "        if self.isEmpty():\n",
        "            return None\n",
        "        return self.__queue[-1]\n",
        "\n",
        "    def isEmpty(self):\n",
        "        return len(self.__queue) == 0\n",
        "\n",
        "    def dequeueAll(self):\n",
        "        self.__queue.clear()\n",
        "\n",
        "    def printDeque(self):\n",
        "        print(\"Deque from front:\", end=' ')\n",
        "        for item in self.__queue:\n",
        "            print(item, end=' ')\n",
        "        print()"
      ],
      "metadata": {
        "id": "R2VroZDIqRsI"
      },
      "execution_count": null,
      "outputs": []
    },
    {
      "cell_type": "markdown",
      "source": [
        "# HEAP"
      ],
      "metadata": {
        "id": "oNp9kD9D74JT"
      }
    },
    {
      "cell_type": "markdown",
      "source": [
        "##3"
      ],
      "metadata": {
        "id": "KCnzv_N679v2"
      }
    },
    {
      "cell_type": "code",
      "source": [
        "from datetime import datetime\n",
        "import pandas as pd\n",
        "from google.colab import drive\n",
        "\n",
        "drive.mount('/content/drive')\n",
        "!cp \"/content/drive/MyDrive/Colab Notebooks/DS/heap/heap.py\" .\n",
        "\n",
        "from heap import Heap\n",
        "\n",
        "csv_path = \"/content/drive/MyDrive/Colab Notebooks/DS/birthday.csv\"\n",
        "df = pd.read_csv(csv_path)\n",
        "\n",
        "heap = Heap()\n",
        "\n",
        "for i in range(len(df)):\n",
        "    name = df.iloc[i][\"이름\"]\n",
        "    birth_value = df.iloc[i][\"생년월일8자리(예.20040101)\"]\n",
        "\n",
        "    if pd.isna(birth_value):\n",
        "        continue\n",
        "\n",
        "    try:\n",
        "        birth_raw = str(int(birth_value)).strip()\n",
        "        birth_date = datetime.strptime(birth_raw, \"%Y%m%d\")\n",
        "        birth_timestamp = birth_date.timestamp()  # datetime → float\n",
        "\n",
        "        # 생일을 timestamp로 바꿔서 힙에 저장 (우선순위 비교를 위해)\n",
        "        heap.insert((birth_timestamp, name))\n",
        "    except:\n",
        "        continue\n",
        "\n",
        "print(\"🎂 생일이 늦은 친구 TOP 10:\")\n",
        "for _ in range(10):\n",
        "    person = heap.deleteMax()\n",
        "    if person:\n",
        "        birth = datetime.fromtimestamp(person[0]).strftime(\"%Y-%m-%d\")\n",
        "        print(f\"{person[1]}: {birth}\")"
      ],
      "metadata": {
        "colab": {
          "base_uri": "https://localhost:8080/"
        },
        "id": "0cYf3sq48zv5",
        "outputId": "ee4b101d-d16a-4244-f432-efba68571bcd"
      },
      "execution_count": 1,
      "outputs": [
        {
          "output_type": "stream",
          "name": "stdout",
          "text": [
            "Drive already mounted at /content/drive; to attempt to forcibly remount, call drive.mount(\"/content/drive\", force_remount=True).\n",
            "🎂 생일이 늦은 친구 TOP 10:\n",
            "신수민: 2005-12-30\n",
            "이서영: 2005-12-25\n",
            "강민주: 2005-12-14\n",
            "김민경: 2005-12-02\n",
            "이서영: 2005-11-12\n",
            "배시은: 2005-11-02\n",
            "김여원: 2005-10-31\n",
            "이서진: 2005-10-28\n",
            "서홍빈: 2005-10-24\n",
            "김예빈: 2005-10-19\n"
          ]
        }
      ]
    },
    {
      "cell_type": "markdown",
      "source": [
        "## 4"
      ],
      "metadata": {
        "id": "EigXL_fz80cz"
      }
    },
    {
      "cell_type": "code",
      "source": [
        "from datetime import datetime\n",
        "import pandas as pd\n",
        "from google.colab import drive\n",
        "\n",
        "drive.mount('/content/drive')\n",
        "!cp \"/content/drive/MyDrive/Colab Notebooks/DS/List/circularDoublyLinkedList.py\" .\n",
        "\n",
        "from circularDoublyLinkedList import CircularDoublyLinkedList\n",
        "\n",
        "csv_path = \"/content/drive/MyDrive/Colab Notebooks/DS/birthday.csv\"\n",
        "df = pd.read_csv(csv_path)\n",
        "\n",
        "team_members = [\n",
        "    \"조예진\", \"김주영\", \"오다현\", \"이진서\", \"김여원\", \"김수련\",\n",
        "    \"김민영\", \"윤서영\", \"허재희\", \"김다연\", \"안소형\", \"주민진\",\n",
        "    \"김도경\", \"홍지연\", \"김채린\"\n",
        "]\n",
        "\n",
        "linked_list = CircularDoublyLinkedList()\n",
        "\n",
        "for i in range(len(df)):\n",
        "    name = df.iloc[i][\"이름\"]\n",
        "    birth_raw = df.iloc[i][\"생년월일8자리(예.20040101)\"]\n",
        "\n",
        "    if pd.isna(birth_raw):\n",
        "        continue\n",
        "\n",
        "    if name in team_members:\n",
        "        try:\n",
        "            birth_str = str(int(birth_raw)).strip()\n",
        "            birth_date = datetime.strptime(birth_str, \"%Y%m%d\")\n",
        "            linked_list.append((name, birth_date))\n",
        "        except:\n",
        "            continue\n",
        "\n",
        "# 출력\n",
        "print(\"🎉 조원들의 생일 목록 🎂\")\n",
        "for item in linked_list:\n",
        "    print(f\"{item[0]}: {item[1].strftime('%Y-%m-%d')}\")"
      ],
      "metadata": {
        "id": "WaCin9Vn814X",
        "colab": {
          "base_uri": "https://localhost:8080/"
        },
        "outputId": "00496569-8196-4e82-d33c-4041fc30e280"
      },
      "execution_count": 3,
      "outputs": [
        {
          "output_type": "stream",
          "name": "stdout",
          "text": [
            "Drive already mounted at /content/drive; to attempt to forcibly remount, call drive.mount(\"/content/drive\", force_remount=True).\n",
            "🎉 조원들의 생일 목록 🎂\n",
            "김다연: 2003-03-04\n",
            "김도경: 2005-09-23\n",
            "김민영: 2004-02-10\n",
            "김수련: 2003-01-10\n",
            "김여원: 2005-10-31\n",
            "김주영: 2000-09-22\n",
            "김채린: 2005-01-23\n",
            "안소형: 2003-10-22\n",
            "오다현: 2002-05-05\n",
            "윤서영: 2005-05-19\n",
            "이진서: 2004-03-27\n",
            "조예진: 2004-05-09\n",
            "허재희: 2005-06-21\n",
            "홍지연: 2005-02-03\n"
          ]
        }
      ]
    },
    {
      "cell_type": "markdown",
      "source": [
        "##5"
      ],
      "metadata": {
        "id": "lfqfg0ZK85on"
      }
    },
    {
      "cell_type": "markdown",
      "source": [
        "1번\n",
        "\n",
        "갖을 수 있다. 만약에 1번째노드가 3일 때, 2번째 노드가 5이고 9번째 노드가 4일 수 있기 때문이다."
      ],
      "metadata": {
        "id": "-X3-oUWzQTrP"
      }
    },
    {
      "cell_type": "markdown",
      "source": [
        "2번\n",
        "\n",
        "항상 가장 작은 값을 갖는 것은 아니다. 만약 A[1]가 3이고, A[2]가 5이고 A[9]가 a[n-1]일 때 A[9]가 4일 수 있기 때문이다."
      ],
      "metadata": {
        "id": "sx7rI8KiROj_"
      }
    },
    {
      "cell_type": "markdown",
      "source": [
        "3번\n",
        "\n",
        "n/2개.완전이진트리 구조상 트리의 리프노드들은 자식이 없기 때문에 그냥 넘어가게 된다."
      ],
      "metadata": {
        "id": "Rjg1pVwbR_qr"
      }
    },
    {
      "cell_type": "markdown",
      "source": [
        "4번\n",
        "\n",
        "최선의 경우 Θ(1), 최악의 경우 Θ(log n)\n",
        "최선의 경우 바꿀 필요가 없으므로 바로 끝나므로 Θ(1)이고, 최악의 경우 루트에서 시작해 가장 깊은 레벨까지 내려가야하는 경우 높이가 logn이기 때문에 Θ(log n)이다."
      ],
      "metadata": {
        "id": "2Jc6err0SerD"
      }
    },
    {
      "cell_type": "markdown",
      "source": [
        "5번\n",
        "\n",
        "간단한 일이다. 힙은 완전이진트리이기 때문에 마지막 노드는 항상 배열의 끝에 위치해 있어 마짐가 원소를 제거해도 다른 노드들의 힙 성질은 유지된다."
      ],
      "metadata": {
        "id": "FFE3surZS9fv"
      }
    },
    {
      "cell_type": "markdown",
      "source": [
        "6번\n",
        "\n",
        "본문에 제시한 방법은 높이가 낮은 노드부터 시작해 위로 올라가면서 정리하기 때문에 각 단계에서 비교/교환 작업이 상대적으로 적고 점근적 시간 복잡도는 O(n)이다.\n",
        "반대 방향의 경우에는 루트부터 시작해서 각 단계에서 많은 노드를 포함하는 서브트리를 정리해야하므로 더 많은 작업을 요구하고 점근적 시간 복잡도는 O(nlogn)이다.\n",
        "따라서 본문에 제시한 방법이 더 효율적이라고 할 수 있다."
      ],
      "metadata": {
        "id": "1tJ5ynLPTQfr"
      }
    },
    {
      "cell_type": "markdown",
      "source": [
        "7번\n",
        "\n",
        "증가된 원소가 힙 배열 A의 인덱스 i에 있다고 하자.\n",
        "\n",
        "부모 노드는 인덱스 (i - 1) // 2에 있고\n",
        "만약 A[i]가 A[(i - 1) // 2]보다 크면, 교환이 필요하다.\n",
        "\n",
        "A[i]와 A[(i - 1) // 2]를 교환합니다.\n",
        "\n",
        "이제 i를 부모의 인덱스로 바꾸고,\n",
        "i = (i - 1) // 2\n",
        "그리고 새로운 부모와 다시 비교한다.\n",
        "이 과정을 루트 노드에 도달하거나 부모가 현재 노드보다 크거나 같은 경우에 멈춘다."
      ],
      "metadata": {
        "id": "RXmwpidjUAxD"
      }
    },
    {
      "cell_type": "markdown",
      "source": [
        "##6"
      ],
      "metadata": {
        "id": "iLpYMefm8-e5"
      }
    },
    {
      "cell_type": "code",
      "source": [
        "import heapq\n",
        "from typing import List\n",
        "class KthLargest:\n",
        "    def __init__(self, k: int, nums: List[int]):\n",
        "        self.k = k\n",
        "        self.heap = []\n",
        "\n",
        "\n",
        "        for num in nums:\n",
        "            heapq.heappush(self.heap, num)\n",
        "            if len(self.heap) > k:\n",
        "                heapq.heappop(self.heap)\n",
        "\n",
        "    def add(self, val: int) -> int:\n",
        "        heapq.heappush(self.heap, val)\n",
        "        if len(self.heap) > self.k:\n",
        "            heapq.heappop(self.heap)\n",
        "\n",
        "        return self.heap[0]\n",
        "\n",
        "# Example usage\n",
        "kth = KthLargest(3, [4, 5, 8, 2])\n",
        "print(kth.add(3))\n",
        "print(kth.add(5))\n",
        "print(kth.add(10))\n",
        "print(kth.add(9))\n",
        "print(kth.add(4))\n",
        "print('\\n')\n",
        "kth = KthLargest(4, [7, 7, 7, 7, 8, 3])\n",
        "print(kth.add(2))\n",
        "print(kth.add(10))\n",
        "print(kth.add(9))\n",
        "print(kth.add(9))\n"
      ],
      "metadata": {
        "id": "pzsww9PA8__G",
        "colab": {
          "base_uri": "https://localhost:8080/"
        },
        "outputId": "b2f1d421-fc2e-4f0f-d16f-5b0c943f9e08"
      },
      "execution_count": 9,
      "outputs": [
        {
          "output_type": "stream",
          "name": "stdout",
          "text": [
            "4\n",
            "5\n",
            "5\n",
            "8\n",
            "8\n",
            "\n",
            "\n",
            "7\n",
            "7\n",
            "7\n",
            "8\n"
          ]
        }
      ]
    }
  ]
}