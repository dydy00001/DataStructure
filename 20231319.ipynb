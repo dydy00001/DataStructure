{
  "nbformat": 4,
  "nbformat_minor": 0,
  "metadata": {
    "colab": {
      "provenance": [],
      "authorship_tag": "ABX9TyNibPGtO8Zi9ZOfFdaNYFbq",
      "include_colab_link": true
    },
    "kernelspec": {
      "name": "python3",
      "display_name": "Python 3"
    },
    "language_info": {
      "name": "python"
    }
  },
  "cells": [
    {
      "cell_type": "markdown",
      "metadata": {
        "id": "view-in-github",
        "colab_type": "text"
      },
      "source": [
        "<a href=\"https://colab.research.google.com/github/dydy00001/DataStructure/blob/main/20231319.ipynb\" target=\"_parent\"><img src=\"https://colab.research.google.com/assets/colab-badge.svg\" alt=\"Open In Colab\"/></a>"
      ]
    },
    {
      "cell_type": "markdown",
      "source": [
        "# LeetCode 225. Implemnet Stack using Queues"
      ],
      "metadata": {
        "id": "i2WnglNBiANF"
      }
    },
    {
      "cell_type": "code",
      "source": [
        "class MyStack:\n",
        "  def __init__(self):\n",
        "    self.__q1 = []\n",
        "    self.__q2 = []\n",
        "\n",
        "  def push(self, x: int) -> None:\n",
        "    self.__q1.append(x)\n",
        "\n",
        "  def pop(self) -> int:\n",
        "    if self.empty():\n",
        "      return None\n",
        "    else:\n",
        "      while len(self.__q1) > 1:\n",
        "        self.__q2.append(self.__q1.pop(0))\n",
        "\n",
        "      result = self.__q1.pop(0)\n",
        "\n",
        "      self.__q1, self.__q2 = self.__q2, self.__q1\n",
        "\n",
        "      return result\n",
        "\n",
        "  def top(self) -> int:\n",
        "    if self.empty():\n",
        "      return None\n",
        "    else:\n",
        "      while len(self.__q1) > 1:\n",
        "        self.__q2.append(self.__q1.pop(0))\n",
        "\n",
        "      result = self.__q1.pop(0)\n",
        "      self.__q2.append(result)\n",
        "\n",
        "      self.__q1, self.__q2 = self.__q2, self.__q1\n",
        "\n",
        "      return result\n",
        "\n",
        "  def empty(self) -> bool:\n",
        "    return len(self.__q1) == 0\n"
      ],
      "metadata": {
        "colab": {
          "base_uri": "https://localhost:8080/"
        },
        "id": "D7H3L1kpiGMN",
        "outputId": "5601b1f3-9a1f-46e8-e3c4-73043de33705"
      },
      "execution_count": null,
      "outputs": [
        {
          "output_type": "stream",
          "name": "stdout",
          "text": [
            "2\n",
            "2\n",
            "False\n"
          ]
        }
      ]
    },
    {
      "cell_type": "markdown",
      "source": [
        "# LeetCode 232.Implement Queue using Stacks"
      ],
      "metadata": {
        "id": "gHhz-vV_iXWv"
      }
    },
    {
      "cell_type": "code",
      "source": [
        "class MyQueue:\n",
        "    def __init__(self):\n",
        "        self.__stack1 = []\n",
        "        self.__stack2 = []\n",
        "\n",
        "    def push(self, x: int) -> None:\n",
        "        self.__stack1.append(x)\n",
        "\n",
        "    def pop(self) -> int:\n",
        "        if self.empty():\n",
        "            return None\n",
        "        else:\n",
        "            while len(self.__stack1) > 1:\n",
        "                self.__stack2.append(self.__stack1.pop())\n",
        "\n",
        "            result = self.__stack1.pop()\n",
        "            while self.__stack2:\n",
        "                self.__stack1.append(self.__stack2.pop())\n",
        "\n",
        "            return result\n",
        "\n",
        "    def peek(self) -> int:\n",
        "        if self.empty():\n",
        "            return None\n",
        "        else:\n",
        "            while len(self.__stack1) > 1:\n",
        "                self.__stack2.append(self.__stack1.pop())\n",
        "\n",
        "            result = self.__stack1.pop()\n",
        "            self.__stack2.append(result)\n",
        "\n",
        "            while self.__stack2:\n",
        "                self.__stack1.append(self.__stack2.pop())\n",
        "\n",
        "            return result\n",
        "\n",
        "    def empty(self) -> bool:\n",
        "        return len(self.__stack1) == 0\n"
      ],
      "metadata": {
        "colab": {
          "base_uri": "https://localhost:8080/"
        },
        "id": "yRJ12NfkipzN",
        "outputId": "275604d8-3959-4f7c-ed86-5f93a0999374"
      },
      "execution_count": null,
      "outputs": [
        {
          "output_type": "stream",
          "name": "stdout",
          "text": [
            "1\n",
            "1\n",
            "False\n"
          ]
        }
      ]
    },
    {
      "cell_type": "markdown",
      "source": [
        "# 큐 연습문제"
      ],
      "metadata": {
        "id": "-rRhs_bno3Ev"
      }
    },
    {
      "cell_type": "markdown",
      "source": [
        "1번\n"
      ],
      "metadata": {
        "id": "PP8RF-sipNBl"
      }
    },
    {
      "cell_type": "code",
      "source": [
        "class ListQueue:\n",
        "  def __init__(self):\n",
        "    self.__queue = []\n",
        "\n",
        "  def enqueue(self, x):\n",
        "    self.__queue.insert(0,x)\n",
        "\n",
        "  def dequeue(self):\n",
        "    return self.__queue.pop()\n",
        "\n",
        "  def front(self):\n",
        "    return self.__queue[-1]\n",
        "\n",
        "  def isEmpty(self)->bool:\n",
        "    return len(self.__queue)==0\n",
        "\n",
        "  def dequeueAll(self):\n",
        "    self.__queue.clear()"
      ],
      "metadata": {
        "id": "5I3dNZ-npS-u"
      },
      "execution_count": null,
      "outputs": []
    },
    {
      "cell_type": "markdown",
      "source": [
        "2번"
      ],
      "metadata": {
        "id": "6L7nPioFp92b"
      }
    },
    {
      "cell_type": "code",
      "source": [
        "def isSymmetric(s: str) -> bool:\n",
        "    if '$' not in s:\n",
        "        return False\n",
        "\n",
        "    sep = s.index('$')\n",
        "    left = s[:sep]\n",
        "    right = s[sep+1:]\n",
        "\n",
        "    queue = []\n",
        "    for ch in left:\n",
        "        queue.append(ch)\n",
        "\n",
        "    for ch in reversed(right):\n",
        "        if len(queue) == 0 or queue.pop(0) != ch:\n",
        "            return False\n",
        "\n",
        "    return len(queue) == 0"
      ],
      "metadata": {
        "id": "bqVgLg3qqAJJ"
      },
      "execution_count": null,
      "outputs": []
    },
    {
      "cell_type": "markdown",
      "source": [
        "3번"
      ],
      "metadata": {
        "id": "G6W3pZCnqBIh"
      }
    },
    {
      "cell_type": "code",
      "source": [
        "def copyQueue(a):\n",
        "    b = LinkedQueue()\n",
        "    temp = LinkedQueue()\n",
        "\n",
        "    while not a.isEmpty():\n",
        "        x = a.dequeue()\n",
        "        temp.enqueue(x)\n",
        "        b.enqueue(x)\n",
        "\n",
        "    while not temp.isEmpty():\n",
        "        a.enqueue(temp.dequeue())\n",
        "\n",
        "    return b"
      ],
      "metadata": {
        "id": "40NA8oqwqE8o"
      },
      "execution_count": null,
      "outputs": []
    },
    {
      "cell_type": "markdown",
      "source": [
        "4번"
      ],
      "metadata": {
        "id": "yak8oAxGqGLd"
      }
    },
    {
      "cell_type": "code",
      "source": [
        "def push(self, x: int) -> None:\n",
        "    self.__q1.append(x)\n",
        "\n",
        "def pop(self) -> int:\n",
        "    if self.empty():\n",
        "      return None\n",
        "    else:\n",
        "      while len(self.__q1) > 1:\n",
        "        self.__q2.append(self.__q1.pop(0))\n",
        "\n",
        "      result = self.__q1.pop(0)\n",
        "\n",
        "      self.__q1, self.__q2 = self.__q2, self.__q1\n",
        "\n",
        "      return result"
      ],
      "metadata": {
        "id": "1B_jdwdWThCE"
      },
      "execution_count": null,
      "outputs": []
    },
    {
      "cell_type": "markdown",
      "source": [
        "5번"
      ],
      "metadata": {
        "id": "YFjmTVntqHvO"
      }
    },
    {
      "cell_type": "code",
      "source": [
        "def enqueue(self, x: int) -> None:\n",
        "    self.__stack1.append(x)\n",
        "\n",
        "def dequeue(self) -> int:\n",
        "    if self.empty():\n",
        "        return None\n",
        "    else:\n",
        "        while len(self.__stack1) > 1:\n",
        "            self.__stack2.append(self.__stack1.pop())\n",
        "\n",
        "        result = self.__stack1.pop()\n",
        "\n",
        "        while self.__stack2:\n",
        "            self.__stack1.append(self.__stack2.pop())\n",
        "\n",
        "        return result\n"
      ],
      "metadata": {
        "id": "wX49maJhqPtn"
      },
      "execution_count": null,
      "outputs": []
    },
    {
      "cell_type": "markdown",
      "source": [
        "6번"
      ],
      "metadata": {
        "id": "FdMhA7wRqJjs"
      }
    },
    {
      "cell_type": "markdown",
      "source": [
        "Deque는 일반 큐와 달리, 큐의 앞(front)과 뒤(rear) 양쪽 모두에서 enqueue()와 dequeue()가 가능한 자료구조이다.코드 7-13에서는 원형 연결 리스트(CircularLinkedList)를 기반으로 큐를 구현하고 있으며, 앞과 뒤를 가리키는 포인터를 잘 유지한다면 원소를 삽입하거나 삭제하는 연산은 모두 일정한 시간 안에 수행할 수 있다.\n",
        "\n",
        "따라서 큐의 크기가 n일 때, Deque의 enqueue() 및 dequeue() 연산의 수행 시간은 모두 O(1)이다."
      ],
      "metadata": {
        "id": "DCe5IC_3XxLk"
      }
    },
    {
      "cell_type": "markdown",
      "source": [
        "7번"
      ],
      "metadata": {
        "id": "WTXJXfVHqK5h"
      }
    },
    {
      "cell_type": "markdown",
      "source": [
        "LinkedListBasic 클래스는 단일 연결 리스트(Singly Linked List) 구조로, 리스트의 맨 앞에 더미 헤드 노드를 두고 원소들을 연결하여 관리한다. 이 구조에서는 리스트의 끝에 접근하기 위해 반드시 처음부터 한 칸씩 이동해야 하며, 리스트 내 특정 위치에 노드를 삽입하거나 삭제할 때도 마찬가지로 _getNode(i) 함수를 통해 해당 위치까지 순차적으로 탐색한다.\n",
        "\n",
        "이러한 구조에서 enqueue() 연산은 일반적으로 리스트의 끝에 새로운 노드를 삽입하는 방식으로 이루어지며, 이때 마지막 노드에 도달하기까지 최대 n번의 탐색이 필요하다. 따라서 enqueue() 연산의 시간 복잡도는 O(n)이 된다.\n",
        "\n",
        "반면, dequeue() 연산은 큐의 앞에서 원소를 삭제하는 연산으로, 이 클래스에서는 더미 헤드 노드가 존재하므로 첫 번째 실제 노드를 바로 제거할 수 있다. 별도의 탐색 없이 더미 노드를 이용해 곧바로 삭제할 수 있기 때문에, dequeue() 연산의 시간 복잡도는 O(1)이다.\n",
        "\n",
        "따라서, enqueue()는 O(n), dequeue()는 O(1)이다."
      ],
      "metadata": {
        "id": "7-kLXTRPZahw"
      }
    },
    {
      "cell_type": "markdown",
      "source": [
        "8번"
      ],
      "metadata": {
        "id": "L_Ozji9-qMmM"
      }
    },
    {
      "cell_type": "code",
      "source": [
        "class Deque:\n",
        "    def __init__(self):\n",
        "        self.__queue = []\n",
        "\n",
        "    def enqueueRear(self, x):\n",
        "        self.__queue.append(x)\n",
        "\n",
        "    def enqueueFront(self, x):\n",
        "        self.__queue.insert(0, x)\n",
        "\n",
        "    def dequeueFront(self):\n",
        "        if self.isEmpty():\n",
        "            return None\n",
        "        return self.__queue.pop(0)\n",
        "\n",
        "    def dequeueRear(self):\n",
        "        if self.isEmpty():\n",
        "            return None\n",
        "        return self.__queue.pop()\n",
        "\n",
        "    def front(self):\n",
        "        if self.isEmpty():\n",
        "            return None\n",
        "        return self.__queue[0]\n",
        "\n",
        "    def rear(self):\n",
        "        if self.isEmpty():\n",
        "            return None\n",
        "        return self.__queue[-1]\n",
        "\n",
        "    def isEmpty(self):\n",
        "        return len(self.__queue) == 0\n",
        "\n",
        "    def dequeueAll(self):\n",
        "        self.__queue.clear()\n",
        "\n",
        "    def printDeque(self):\n",
        "        print(\"Deque from front:\", end=' ')\n",
        "        for item in self.__queue:\n",
        "            print(item, end=' ')\n",
        "        print()"
      ],
      "metadata": {
        "id": "R2VroZDIqRsI"
      },
      "execution_count": null,
      "outputs": []
    }
  ]
}